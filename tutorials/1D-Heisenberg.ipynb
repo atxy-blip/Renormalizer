{
 "cells": [
  {
   "cell_type": "markdown",
   "metadata": {},
   "source": [
    "# Ground state of the Heisenberg model"
   ]
  },
  {
   "cell_type": "markdown",
   "metadata": {},
   "source": [
    "## Overview"
   ]
  },
  {
   "cell_type": "markdown",
   "metadata": {},
   "source": [
    "This notebook will give an example how to use Renormalizer to calculate the ground state energy of the open boundary spin 1/2 1-D Heisenberg model.\n",
    "\n",
    "$$\n",
    "H = J \\sum_i [S_i^z S_{i+1}^z + \\frac{1}{2}(S_i^+ S_{i+1}^- + S_i^- S_{i+1}^+)]\n",
    "$$\n",
    "\n",
    "Exact result via Bethe Anstatz:\n",
    "\n",
    "|$L$ |      $E/J$|\n",
    "|----|-----------|\n",
    "|16  |-6.9117371455749|\n",
    "|24  |-10.4537857604096|\n",
    "|32  |-13.9973156182243|\n",
    "|48  |-21.0859563143863|\n",
    "|64  |-28.1754248597421|\n"
   ]
  },
  {
   "cell_type": "markdown",
   "metadata": {},
   "source": [
    "## Setup"
   ]
  },
  {
   "cell_type": "code",
   "execution_count": 1,
   "metadata": {
    "execution": {
     "iopub.execute_input": "2025-04-18T13:43:25.416646Z",
     "iopub.status.busy": "2025-04-18T13:43:25.416148Z",
     "iopub.status.idle": "2025-04-18T13:43:26.167297Z",
     "shell.execute_reply": "2025-04-18T13:43:26.166627Z"
    }
   },
   "outputs": [
    {
     "name": "stderr",
     "output_type": "stream",
     "text": [
      "2025-04-18 13:43:26,073[INFO] Use NumPy as backend\n"
     ]
    },
    {
     "name": "stderr",
     "output_type": "stream",
     "text": [
      "2025-04-18 13:43:26,074[INFO] numpy random seed is 9012\n"
     ]
    },
    {
     "name": "stderr",
     "output_type": "stream",
     "text": [
      "2025-04-18 13:43:26,074[INFO] random seed is 1092\n"
     ]
    },
    {
     "name": "stderr",
     "output_type": "stream",
     "text": [
      "2025-04-18 13:43:26,084[INFO] Git Commit Hash: bca9354a44d9e425271d4ba7b6dd2315d1969503\n"
     ]
    },
    {
     "name": "stderr",
     "output_type": "stream",
     "text": [
      "2025-04-18 13:43:26,085[INFO] use 64 bits\n"
     ]
    }
   ],
   "source": [
    "from renormalizer import Model, Op, BasisHalfSpin,  Mps, Mpo, optimize_mps"
   ]
  },
  {
   "cell_type": "markdown",
   "metadata": {},
   "source": [
    "## Define the Model\n",
    "In Renormalizer, models are defined by the Hamiltonian terms and the a list of basis sets. The basis also defines the ordering in DMRG.\n",
    "\n",
    "The spin operators can be represented by Pauli operators\n",
    "$$\n",
    "S^+ = \\sigma^+ \n",
    "$$\n",
    "$$\n",
    "S^- = \\sigma^- \n",
    "$$\n",
    "$$\n",
    "S^{\\{x,y,z\\}} = \\frac{1}{2} \\sigma^{\\{x,y,z\\}}\n",
    "$$"
   ]
  },
  {
   "cell_type": "code",
   "execution_count": 2,
   "metadata": {
    "execution": {
     "iopub.execute_input": "2025-04-18T13:43:26.169922Z",
     "iopub.status.busy": "2025-04-18T13:43:26.169689Z",
     "iopub.status.idle": "2025-04-18T13:43:26.210920Z",
     "shell.execute_reply": "2025-04-18T13:43:26.210212Z"
    }
   },
   "outputs": [
    {
     "name": "stderr",
     "output_type": "stream",
     "text": [
      "2025-04-18 13:43:26,179[DEBUG] # of operator terms: 93\n"
     ]
    },
    {
     "name": "stderr",
     "output_type": "stream",
     "text": [
      "2025-04-18 13:43:26,180[DEBUG] Input operator terms: 93\n"
     ]
    },
    {
     "name": "stderr",
     "output_type": "stream",
     "text": [
      "2025-04-18 13:43:26,182[DEBUG] After combination of the same terms: 93\n"
     ]
    },
    {
     "name": "stderr",
     "output_type": "stream",
     "text": [
      "2025-04-18 13:43:26,183[DEBUG] symbolic mpo algorithm: qr\n"
     ]
    },
    {
     "name": "stdout",
     "output_type": "stream",
     "text": [
      "mpo_bond_dims:[1, 4, 5, 5, 5, 5, 5, 5, 5, 5, 5, 5, 5, 5, 5, 5, 5, 5, 5, 5, 5, 5, 5, 5, 5, 5, 5, 5, 5, 5, 5, 4, 1]\n"
     ]
    }
   ],
   "source": [
    "# define the # of spins\n",
    "nspin = 32\n",
    "\n",
    "# define the model\n",
    "\n",
    "ham_terms = []\n",
    "for ispin in range(nspin-1):\n",
    "    op1 = Op(\"sigma_z sigma_z\", [ispin, ispin+1], 1.0/4)\n",
    "    op2 = Op(\"sigma_+ sigma_-\", [ispin, ispin+1], 1.0/2)\n",
    "    op3 = Op(\"sigma_- sigma_+\", [ispin, ispin+1], 1.0/2)\n",
    "    ham_terms.extend([op1, op2, op3])\n",
    "\n",
    "# set the spin order and local basis\n",
    "basis = [BasisHalfSpin(i) for i in range(nspin)]\n",
    "# construct Hamiltonian MPO\n",
    "model = Model(basis, ham_terms)\n",
    "mpo = Mpo(model)\n",
    "print(f\"mpo_bond_dims:{mpo.bond_dims}\")"
   ]
  },
  {
   "cell_type": "markdown",
   "metadata": {},
   "source": [
    "## DMRG Sweeps"
   ]
  },
  {
   "cell_type": "code",
   "execution_count": 3,
   "metadata": {
    "execution": {
     "iopub.execute_input": "2025-04-18T13:43:26.213141Z",
     "iopub.status.busy": "2025-04-18T13:43:26.212932Z",
     "iopub.status.idle": "2025-04-18T13:43:32.577935Z",
     "shell.execute_reply": "2025-04-18T13:43:32.576896Z"
    }
   },
   "outputs": [
    {
     "name": "stderr",
     "output_type": "stream",
     "text": [
      "2025-04-18 13:43:26,254[INFO] optimization method: 2site\n"
     ]
    },
    {
     "name": "stderr",
     "output_type": "stream",
     "text": [
      "2025-04-18 13:43:26,255[INFO] e_rtol: 1e-06\n"
     ]
    },
    {
     "name": "stderr",
     "output_type": "stream",
     "text": [
      "2025-04-18 13:43:26,256[INFO] e_atol: 1e-08\n"
     ]
    },
    {
     "name": "stderr",
     "output_type": "stream",
     "text": [
      "2025-04-18 13:43:26,256[INFO] procedure: [[30, 0.2], [30, 0], [30, 0], [30, 0], [30, 0]]\n"
     ]
    },
    {
     "name": "stderr",
     "output_type": "stream",
     "text": [
      "2025-04-18 13:43:26,288[DEBUG] isweep: 0\n"
     ]
    },
    {
     "name": "stderr",
     "output_type": "stream",
     "text": [
      "2025-04-18 13:43:26,290[DEBUG] compress config in current loop: 30, percent: 0.2\n"
     ]
    },
    {
     "name": "stderr",
     "output_type": "stream",
     "text": [
      "2025-04-18 13:43:26,291[DEBUG] mps current size: 329.7KiB, Matrix product bond dim:[1, 2, 4, 8, 16, 30, 30, 30, 30, 30, 30, 30, 30, 30, 30, 30, 30, 30, 30, 30, 30, 30, 30, 30, 30, 30, 30, 30, 16, 8, 4, 2, 1]\n"
     ]
    },
    {
     "name": "stderr",
     "output_type": "stream",
     "text": [
      "2025-04-18 13:43:26,293[DEBUG] optimize site: [0, 1]\n"
     ]
    },
    {
     "name": "stderr",
     "output_type": "stream",
     "text": [
      "2025-04-18 13:43:26,294[DEBUG] use direct eigensolver\n"
     ]
    },
    {
     "name": "stderr",
     "output_type": "stream",
     "text": [
      "2025-04-18 13:43:26,297[DEBUG] energy: -0.927999022689833\n"
     ]
    },
    {
     "name": "stderr",
     "output_type": "stream",
     "text": [
      "2025-04-18 13:43:26,299[DEBUG] optimize site: [1, 2]\n"
     ]
    },
    {
     "name": "stderr",
     "output_type": "stream",
     "text": [
      "2025-04-18 13:43:26,302[DEBUG] use direct eigensolver\n"
     ]
    },
    {
     "name": "stderr",
     "output_type": "stream",
     "text": [
      "2025-04-18 13:43:26,307[DEBUG] energy: -1.284089573410534\n"
     ]
    },
    {
     "name": "stderr",
     "output_type": "stream",
     "text": [
      "2025-04-18 13:43:26,309[DEBUG] optimize site: [2, 3]\n"
     ]
    },
    {
     "name": "stderr",
     "output_type": "stream",
     "text": [
      "2025-04-18 13:43:26,310[DEBUG] use direct eigensolver\n"
     ]
    },
    {
     "name": "stderr",
     "output_type": "stream",
     "text": [
      "2025-04-18 13:43:26,334[DEBUG] energy: -2.08574526474992\n"
     ]
    },
    {
     "name": "stderr",
     "output_type": "stream",
     "text": [
      "2025-04-18 13:43:26,336[DEBUG] optimize site: [3, 4]\n"
     ]
    },
    {
     "name": "stderr",
     "output_type": "stream",
     "text": [
      "2025-04-18 13:43:26,339[DEBUG] use direct eigensolver\n"
     ]
    },
    {
     "name": "stderr",
     "output_type": "stream",
     "text": [
      "2025-04-18 13:43:26,594[DEBUG] energy: -2.815889527237408\n"
     ]
    },
    {
     "name": "stderr",
     "output_type": "stream",
     "text": [
      "2025-04-18 13:43:26,596[DEBUG] optimize site: [4, 5]\n"
     ]
    },
    {
     "name": "stderr",
     "output_type": "stream",
     "text": [
      "2025-04-18 13:43:26,652[DEBUG] use davidson, HC hops: 34\n"
     ]
    },
    {
     "name": "stderr",
     "output_type": "stream",
     "text": [
      "2025-04-18 13:43:26,654[DEBUG] energy: -3.2933673155858\n"
     ]
    },
    {
     "name": "stderr",
     "output_type": "stream",
     "text": [
      "2025-04-18 13:43:26,656[DEBUG] optimize site: [5, 6]\n"
     ]
    },
    {
     "name": "stderr",
     "output_type": "stream",
     "text": [
      "2025-04-18 13:43:26,745[DEBUG] use davidson, HC hops: 42\n"
     ]
    },
    {
     "name": "stderr",
     "output_type": "stream",
     "text": [
      "2025-04-18 13:43:26,747[DEBUG] energy: -3.7449867503071967\n"
     ]
    },
    {
     "name": "stderr",
     "output_type": "stream",
     "text": [
      "2025-04-18 13:43:26,752[DEBUG] optimize site: [6, 7]\n"
     ]
    },
    {
     "name": "stderr",
     "output_type": "stream",
     "text": [
      "2025-04-18 13:43:26,841[DEBUG] use davidson, HC hops: 42\n"
     ]
    },
    {
     "name": "stderr",
     "output_type": "stream",
     "text": [
      "2025-04-18 13:43:26,842[DEBUG] energy: -4.176385575496487\n"
     ]
    },
    {
     "name": "stderr",
     "output_type": "stream",
     "text": [
      "2025-04-18 13:43:26,847[DEBUG] optimize site: [7, 8]\n"
     ]
    },
    {
     "name": "stderr",
     "output_type": "stream",
     "text": [
      "2025-04-18 13:43:26,941[DEBUG] use davidson, HC hops: 44\n"
     ]
    },
    {
     "name": "stderr",
     "output_type": "stream",
     "text": [
      "2025-04-18 13:43:26,942[DEBUG] energy: -4.583593477927389\n"
     ]
    },
    {
     "name": "stderr",
     "output_type": "stream",
     "text": [
      "2025-04-18 13:43:26,947[DEBUG] optimize site: [8, 9]\n"
     ]
    },
    {
     "name": "stderr",
     "output_type": "stream",
     "text": [
      "2025-04-18 13:43:27,063[DEBUG] use davidson, HC hops: 55\n"
     ]
    },
    {
     "name": "stderr",
     "output_type": "stream",
     "text": [
      "2025-04-18 13:43:27,065[DEBUG] energy: -4.9680318456712\n"
     ]
    },
    {
     "name": "stderr",
     "output_type": "stream",
     "text": [
      "2025-04-18 13:43:27,070[DEBUG] optimize site: [9, 10]\n"
     ]
    },
    {
     "name": "stderr",
     "output_type": "stream",
     "text": [
      "2025-04-18 13:43:27,212[DEBUG] use davidson, HC hops: 68\n"
     ]
    },
    {
     "name": "stderr",
     "output_type": "stream",
     "text": [
      "2025-04-18 13:43:27,214[DEBUG] energy: -5.4147063608339785\n"
     ]
    },
    {
     "name": "stderr",
     "output_type": "stream",
     "text": [
      "2025-04-18 13:43:27,219[DEBUG] optimize site: [10, 11]\n"
     ]
    },
    {
     "name": "stderr",
     "output_type": "stream",
     "text": [
      "2025-04-18 13:43:27,369[DEBUG] use davidson, HC hops: 72\n"
     ]
    },
    {
     "name": "stderr",
     "output_type": "stream",
     "text": [
      "2025-04-18 13:43:27,371[DEBUG] energy: -5.856529754520464\n"
     ]
    },
    {
     "name": "stderr",
     "output_type": "stream",
     "text": [
      "2025-04-18 13:43:27,375[DEBUG] optimize site: [11, 12]\n"
     ]
    },
    {
     "name": "stderr",
     "output_type": "stream",
     "text": [
      "2025-04-18 13:43:27,583[DEBUG] use davidson, HC hops: 100\n"
     ]
    },
    {
     "name": "stderr",
     "output_type": "stream",
     "text": [
      "2025-04-18 13:43:27,585[DEBUG] energy: -6.279022467295804\n"
     ]
    },
    {
     "name": "stderr",
     "output_type": "stream",
     "text": [
      "2025-04-18 13:43:27,590[DEBUG] optimize site: [12, 13]\n"
     ]
    },
    {
     "name": "stderr",
     "output_type": "stream",
     "text": [
      "2025-04-18 13:43:27,700[DEBUG] use davidson, HC hops: 52\n"
     ]
    },
    {
     "name": "stderr",
     "output_type": "stream",
     "text": [
      "2025-04-18 13:43:27,702[DEBUG] energy: -6.857389012204756\n"
     ]
    },
    {
     "name": "stderr",
     "output_type": "stream",
     "text": [
      "2025-04-18 13:43:27,707[DEBUG] optimize site: [13, 14]\n"
     ]
    },
    {
     "name": "stderr",
     "output_type": "stream",
     "text": [
      "2025-04-18 13:43:27,916[DEBUG] use davidson, HC hops: 100\n"
     ]
    },
    {
     "name": "stderr",
     "output_type": "stream",
     "text": [
      "2025-04-18 13:43:27,919[DEBUG] energy: -7.114588022005771\n"
     ]
    },
    {
     "name": "stderr",
     "output_type": "stream",
     "text": [
      "2025-04-18 13:43:27,923[DEBUG] optimize site: [14, 15]\n"
     ]
    },
    {
     "name": "stderr",
     "output_type": "stream",
     "text": [
      "2025-04-18 13:43:28,022[DEBUG] use davidson, HC hops: 47\n"
     ]
    },
    {
     "name": "stderr",
     "output_type": "stream",
     "text": [
      "2025-04-18 13:43:28,024[DEBUG] energy: -7.641631783835402\n"
     ]
    },
    {
     "name": "stderr",
     "output_type": "stream",
     "text": [
      "2025-04-18 13:43:28,029[DEBUG] optimize site: [15, 16]\n"
     ]
    },
    {
     "name": "stderr",
     "output_type": "stream",
     "text": [
      "2025-04-18 13:43:28,136[DEBUG] use davidson, HC hops: 51\n"
     ]
    },
    {
     "name": "stderr",
     "output_type": "stream",
     "text": [
      "2025-04-18 13:43:28,138[DEBUG] energy: -8.11839533842003\n"
     ]
    },
    {
     "name": "stderr",
     "output_type": "stream",
     "text": [
      "2025-04-18 13:43:28,142[DEBUG] optimize site: [16, 17]\n"
     ]
    },
    {
     "name": "stderr",
     "output_type": "stream",
     "text": [
      "2025-04-18 13:43:28,264[DEBUG] use davidson, HC hops: 57\n"
     ]
    },
    {
     "name": "stderr",
     "output_type": "stream",
     "text": [
      "2025-04-18 13:43:28,266[DEBUG] energy: -8.579533430762842\n"
     ]
    },
    {
     "name": "stderr",
     "output_type": "stream",
     "text": [
      "2025-04-18 13:43:28,271[DEBUG] optimize site: [17, 18]\n"
     ]
    },
    {
     "name": "stderr",
     "output_type": "stream",
     "text": [
      "2025-04-18 13:43:28,408[DEBUG] use davidson, HC hops: 66\n"
     ]
    },
    {
     "name": "stderr",
     "output_type": "stream",
     "text": [
      "2025-04-18 13:43:28,410[DEBUG] energy: -8.983113190158456\n"
     ]
    },
    {
     "name": "stderr",
     "output_type": "stream",
     "text": [
      "2025-04-18 13:43:28,414[DEBUG] optimize site: [18, 19]\n"
     ]
    },
    {
     "name": "stderr",
     "output_type": "stream",
     "text": [
      "2025-04-18 13:43:28,543[DEBUG] use davidson, HC hops: 62\n"
     ]
    },
    {
     "name": "stderr",
     "output_type": "stream",
     "text": [
      "2025-04-18 13:43:28,545[DEBUG] energy: -9.422205404607652\n"
     ]
    },
    {
     "name": "stderr",
     "output_type": "stream",
     "text": [
      "2025-04-18 13:43:28,550[DEBUG] optimize site: [19, 20]\n"
     ]
    },
    {
     "name": "stderr",
     "output_type": "stream",
     "text": [
      "2025-04-18 13:43:28,622[DEBUG] use davidson, HC hops: 62\n"
     ]
    },
    {
     "name": "stderr",
     "output_type": "stream",
     "text": [
      "2025-04-18 13:43:28,623[DEBUG] energy: -9.903693680914374\n"
     ]
    },
    {
     "name": "stderr",
     "output_type": "stream",
     "text": [
      "2025-04-18 13:43:28,627[DEBUG] optimize site: [20, 21]\n"
     ]
    },
    {
     "name": "stderr",
     "output_type": "stream",
     "text": [
      "2025-04-18 13:43:28,777[DEBUG] use davidson, HC hops: 81\n"
     ]
    },
    {
     "name": "stderr",
     "output_type": "stream",
     "text": [
      "2025-04-18 13:43:28,780[DEBUG] energy: -10.398530611697954\n"
     ]
    },
    {
     "name": "stderr",
     "output_type": "stream",
     "text": [
      "2025-04-18 13:43:28,784[DEBUG] optimize site: [21, 22]\n"
     ]
    },
    {
     "name": "stderr",
     "output_type": "stream",
     "text": [
      "2025-04-18 13:43:28,943[DEBUG] use davidson, HC hops: 76\n"
     ]
    },
    {
     "name": "stderr",
     "output_type": "stream",
     "text": [
      "2025-04-18 13:43:28,944[DEBUG] energy: -10.834489434421664\n"
     ]
    },
    {
     "name": "stderr",
     "output_type": "stream",
     "text": [
      "2025-04-18 13:43:28,948[DEBUG] optimize site: [22, 23]\n"
     ]
    },
    {
     "name": "stderr",
     "output_type": "stream",
     "text": [
      "2025-04-18 13:43:29,069[DEBUG] use davidson, HC hops: 58\n"
     ]
    },
    {
     "name": "stderr",
     "output_type": "stream",
     "text": [
      "2025-04-18 13:43:29,071[DEBUG] energy: -11.415128707126808\n"
     ]
    },
    {
     "name": "stderr",
     "output_type": "stream",
     "text": [
      "2025-04-18 13:43:29,075[DEBUG] optimize site: [23, 24]\n"
     ]
    },
    {
     "name": "stderr",
     "output_type": "stream",
     "text": [
      "2025-04-18 13:43:29,184[DEBUG] use davidson, HC hops: 52\n"
     ]
    },
    {
     "name": "stderr",
     "output_type": "stream",
     "text": [
      "2025-04-18 13:43:29,185[DEBUG] energy: -12.122795879745052\n"
     ]
    },
    {
     "name": "stderr",
     "output_type": "stream",
     "text": [
      "2025-04-18 13:43:29,190[DEBUG] optimize site: [24, 25]\n"
     ]
    },
    {
     "name": "stderr",
     "output_type": "stream",
     "text": [
      "2025-04-18 13:43:29,346[DEBUG] use davidson, HC hops: 71\n"
     ]
    },
    {
     "name": "stderr",
     "output_type": "stream",
     "text": [
      "2025-04-18 13:43:29,348[DEBUG] energy: -12.812234874023488\n"
     ]
    },
    {
     "name": "stderr",
     "output_type": "stream",
     "text": [
      "2025-04-18 13:43:29,352[DEBUG] optimize site: [25, 26]\n"
     ]
    },
    {
     "name": "stderr",
     "output_type": "stream",
     "text": [
      "2025-04-18 13:43:29,447[DEBUG] use davidson, HC hops: 58\n"
     ]
    },
    {
     "name": "stderr",
     "output_type": "stream",
     "text": [
      "2025-04-18 13:43:29,449[DEBUG] energy: -13.774582804126673\n"
     ]
    },
    {
     "name": "stderr",
     "output_type": "stream",
     "text": [
      "2025-04-18 13:43:29,455[DEBUG] optimize site: [26, 27]\n"
     ]
    },
    {
     "name": "stderr",
     "output_type": "stream",
     "text": [
      "2025-04-18 13:43:29,536[DEBUG] use davidson, HC hops: 47\n"
     ]
    },
    {
     "name": "stderr",
     "output_type": "stream",
     "text": [
      "2025-04-18 13:43:29,538[DEBUG] energy: -13.99683265581309\n"
     ]
    },
    {
     "name": "stderr",
     "output_type": "stream",
     "text": [
      "2025-04-18 13:43:29,540[DEBUG] optimize site: [27, 28]\n"
     ]
    },
    {
     "name": "stderr",
     "output_type": "stream",
     "text": [
      "2025-04-18 13:43:29,545[DEBUG] use direct eigensolver\n"
     ]
    },
    {
     "name": "stderr",
     "output_type": "stream",
     "text": [
      "2025-04-18 13:43:29,807[DEBUG] energy: -13.996832655533987\n"
     ]
    },
    {
     "name": "stderr",
     "output_type": "stream",
     "text": [
      "2025-04-18 13:43:29,809[DEBUG] optimize site: [28, 29]\n"
     ]
    },
    {
     "name": "stderr",
     "output_type": "stream",
     "text": [
      "2025-04-18 13:43:29,812[DEBUG] use direct eigensolver\n"
     ]
    },
    {
     "name": "stderr",
     "output_type": "stream",
     "text": [
      "2025-04-18 13:43:29,862[DEBUG] energy: -13.996832655534\n"
     ]
    },
    {
     "name": "stderr",
     "output_type": "stream",
     "text": [
      "2025-04-18 13:43:29,864[DEBUG] optimize site: [29, 30]\n"
     ]
    },
    {
     "name": "stderr",
     "output_type": "stream",
     "text": [
      "2025-04-18 13:43:29,865[DEBUG] use direct eigensolver\n"
     ]
    },
    {
     "name": "stderr",
     "output_type": "stream",
     "text": [
      "2025-04-18 13:43:29,872[DEBUG] energy: -13.996832655533979\n"
     ]
    },
    {
     "name": "stderr",
     "output_type": "stream",
     "text": [
      "2025-04-18 13:43:29,873[DEBUG] optimize site: [30, 31]\n"
     ]
    },
    {
     "name": "stderr",
     "output_type": "stream",
     "text": [
      "2025-04-18 13:43:29,874[DEBUG] use direct eigensolver\n"
     ]
    },
    {
     "name": "stderr",
     "output_type": "stream",
     "text": [
      "2025-04-18 13:43:29,876[DEBUG] energy: -13.996832655533991\n"
     ]
    },
    {
     "name": "stderr",
     "output_type": "stream",
     "text": [
      "2025-04-18 13:43:29,877[DEBUG] 1 sweeps are finished, lowest energy = -13.99683265581309\n"
     ]
    },
    {
     "name": "stderr",
     "output_type": "stream",
     "text": [
      "2025-04-18 13:43:29,879[DEBUG] isweep: 1\n"
     ]
    },
    {
     "name": "stderr",
     "output_type": "stream",
     "text": [
      "2025-04-18 13:43:29,879[DEBUG] compress config in current loop: 30, percent: 0\n"
     ]
    },
    {
     "name": "stderr",
     "output_type": "stream",
     "text": [
      "2025-04-18 13:43:29,880[DEBUG] mps current size: 343.7KiB, Matrix product bond dim:[1, 2, 4, 8, 16, 30, 30, 30, 30, 30, 30, 30, 30, 30, 30, 30, 30, 30, 30, 30, 30, 30, 30, 30, 30, 30, 30, 30, 30, 16, 8, 4, 1]\n"
     ]
    },
    {
     "name": "stderr",
     "output_type": "stream",
     "text": [
      "2025-04-18 13:43:29,881[DEBUG] optimize site: [30, 31]\n"
     ]
    },
    {
     "name": "stderr",
     "output_type": "stream",
     "text": [
      "2025-04-18 13:43:29,881[DEBUG] use direct eigensolver\n"
     ]
    },
    {
     "name": "stderr",
     "output_type": "stream",
     "text": [
      "2025-04-18 13:43:29,883[DEBUG] energy: -13.996832655533991\n"
     ]
    },
    {
     "name": "stderr",
     "output_type": "stream",
     "text": [
      "2025-04-18 13:43:29,885[DEBUG] optimize site: [29, 30]\n"
     ]
    },
    {
     "name": "stderr",
     "output_type": "stream",
     "text": [
      "2025-04-18 13:43:29,889[DEBUG] use direct eigensolver\n"
     ]
    },
    {
     "name": "stderr",
     "output_type": "stream",
     "text": [
      "2025-04-18 13:43:29,898[DEBUG] energy: -13.996832655533975\n"
     ]
    },
    {
     "name": "stderr",
     "output_type": "stream",
     "text": [
      "2025-04-18 13:43:29,900[DEBUG] optimize site: [28, 29]\n"
     ]
    },
    {
     "name": "stderr",
     "output_type": "stream",
     "text": [
      "2025-04-18 13:43:29,903[DEBUG] use direct eigensolver\n"
     ]
    },
    {
     "name": "stderr",
     "output_type": "stream",
     "text": [
      "2025-04-18 13:43:29,947[DEBUG] energy: -13.996832655534009\n"
     ]
    },
    {
     "name": "stderr",
     "output_type": "stream",
     "text": [
      "2025-04-18 13:43:29,950[DEBUG] optimize site: [27, 28]\n"
     ]
    },
    {
     "name": "stderr",
     "output_type": "stream",
     "text": [
      "2025-04-18 13:43:29,952[DEBUG] use direct eigensolver\n"
     ]
    },
    {
     "name": "stderr",
     "output_type": "stream",
     "text": [
      "2025-04-18 13:43:30,194[DEBUG] energy: -13.996832655534012\n"
     ]
    },
    {
     "name": "stderr",
     "output_type": "stream",
     "text": [
      "2025-04-18 13:43:30,198[DEBUG] optimize site: [26, 27]\n"
     ]
    },
    {
     "name": "stderr",
     "output_type": "stream",
     "text": [
      "2025-04-18 13:43:30,204[DEBUG] use davidson, HC hops: 4\n"
     ]
    },
    {
     "name": "stderr",
     "output_type": "stream",
     "text": [
      "2025-04-18 13:43:30,205[DEBUG] energy: -13.99683265581366\n"
     ]
    },
    {
     "name": "stderr",
     "output_type": "stream",
     "text": [
      "2025-04-18 13:43:30,210[DEBUG] optimize site: [25, 26]\n"
     ]
    },
    {
     "name": "stderr",
     "output_type": "stream",
     "text": [
      "2025-04-18 13:43:30,238[DEBUG] use davidson, HC hops: 22\n"
     ]
    },
    {
     "name": "stderr",
     "output_type": "stream",
     "text": [
      "2025-04-18 13:43:30,240[DEBUG] energy: -13.996844945038395\n"
     ]
    },
    {
     "name": "stderr",
     "output_type": "stream",
     "text": [
      "2025-04-18 13:43:30,244[DEBUG] optimize site: [24, 25]\n"
     ]
    },
    {
     "name": "stderr",
     "output_type": "stream",
     "text": [
      "2025-04-18 13:43:30,284[DEBUG] use davidson, HC hops: 28\n"
     ]
    },
    {
     "name": "stderr",
     "output_type": "stream",
     "text": [
      "2025-04-18 13:43:30,287[DEBUG] energy: -13.997067101658779\n"
     ]
    },
    {
     "name": "stderr",
     "output_type": "stream",
     "text": [
      "2025-04-18 13:43:30,289[DEBUG] optimize site: [23, 24]\n"
     ]
    },
    {
     "name": "stderr",
     "output_type": "stream",
     "text": [
      "2025-04-18 13:43:30,321[DEBUG] use davidson, HC hops: 25\n"
     ]
    },
    {
     "name": "stderr",
     "output_type": "stream",
     "text": [
      "2025-04-18 13:43:30,321[DEBUG] energy: -13.997101684717544\n"
     ]
    },
    {
     "name": "stderr",
     "output_type": "stream",
     "text": [
      "2025-04-18 13:43:30,326[DEBUG] optimize site: [22, 23]\n"
     ]
    },
    {
     "name": "stderr",
     "output_type": "stream",
     "text": [
      "2025-04-18 13:43:30,354[DEBUG] use davidson, HC hops: 23\n"
     ]
    },
    {
     "name": "stderr",
     "output_type": "stream",
     "text": [
      "2025-04-18 13:43:30,356[DEBUG] energy: -13.997106608213747\n"
     ]
    },
    {
     "name": "stderr",
     "output_type": "stream",
     "text": [
      "2025-04-18 13:43:30,360[DEBUG] optimize site: [21, 22]\n"
     ]
    },
    {
     "name": "stderr",
     "output_type": "stream",
     "text": [
      "2025-04-18 13:43:30,393[DEBUG] use davidson, HC hops: 23\n"
     ]
    },
    {
     "name": "stderr",
     "output_type": "stream",
     "text": [
      "2025-04-18 13:43:30,395[DEBUG] energy: -13.997113698271168\n"
     ]
    },
    {
     "name": "stderr",
     "output_type": "stream",
     "text": [
      "2025-04-18 13:43:30,400[DEBUG] optimize site: [20, 21]\n"
     ]
    },
    {
     "name": "stderr",
     "output_type": "stream",
     "text": [
      "2025-04-18 13:43:30,456[DEBUG] use davidson, HC hops: 26\n"
     ]
    },
    {
     "name": "stderr",
     "output_type": "stream",
     "text": [
      "2025-04-18 13:43:30,458[DEBUG] energy: -13.997162638323568\n"
     ]
    },
    {
     "name": "stderr",
     "output_type": "stream",
     "text": [
      "2025-04-18 13:43:30,464[DEBUG] optimize site: [19, 20]\n"
     ]
    },
    {
     "name": "stderr",
     "output_type": "stream",
     "text": [
      "2025-04-18 13:43:30,514[DEBUG] use davidson, HC hops: 23\n"
     ]
    },
    {
     "name": "stderr",
     "output_type": "stream",
     "text": [
      "2025-04-18 13:43:30,515[DEBUG] energy: -13.997170144965592\n"
     ]
    },
    {
     "name": "stderr",
     "output_type": "stream",
     "text": [
      "2025-04-18 13:43:30,521[DEBUG] optimize site: [18, 19]\n"
     ]
    },
    {
     "name": "stderr",
     "output_type": "stream",
     "text": [
      "2025-04-18 13:43:30,559[DEBUG] use davidson, HC hops: 26\n"
     ]
    },
    {
     "name": "stderr",
     "output_type": "stream",
     "text": [
      "2025-04-18 13:43:30,561[DEBUG] energy: -13.997199975427444\n"
     ]
    },
    {
     "name": "stderr",
     "output_type": "stream",
     "text": [
      "2025-04-18 13:43:30,564[DEBUG] optimize site: [17, 18]\n"
     ]
    },
    {
     "name": "stderr",
     "output_type": "stream",
     "text": [
      "2025-04-18 13:43:30,591[DEBUG] use davidson, HC hops: 22\n"
     ]
    },
    {
     "name": "stderr",
     "output_type": "stream",
     "text": [
      "2025-04-18 13:43:30,592[DEBUG] energy: -13.997204392621653\n"
     ]
    },
    {
     "name": "stderr",
     "output_type": "stream",
     "text": [
      "2025-04-18 13:43:30,596[DEBUG] optimize site: [16, 17]\n"
     ]
    },
    {
     "name": "stderr",
     "output_type": "stream",
     "text": [
      "2025-04-18 13:43:30,626[DEBUG] use davidson, HC hops: 25\n"
     ]
    },
    {
     "name": "stderr",
     "output_type": "stream",
     "text": [
      "2025-04-18 13:43:30,628[DEBUG] energy: -13.997225037523835\n"
     ]
    },
    {
     "name": "stderr",
     "output_type": "stream",
     "text": [
      "2025-04-18 13:43:30,632[DEBUG] optimize site: [15, 16]\n"
     ]
    },
    {
     "name": "stderr",
     "output_type": "stream",
     "text": [
      "2025-04-18 13:43:30,664[DEBUG] use davidson, HC hops: 26\n"
     ]
    },
    {
     "name": "stderr",
     "output_type": "stream",
     "text": [
      "2025-04-18 13:43:30,666[DEBUG] energy: -13.997284918121192\n"
     ]
    },
    {
     "name": "stderr",
     "output_type": "stream",
     "text": [
      "2025-04-18 13:43:30,672[DEBUG] optimize site: [14, 15]\n"
     ]
    },
    {
     "name": "stderr",
     "output_type": "stream",
     "text": [
      "2025-04-18 13:43:30,720[DEBUG] use davidson, HC hops: 22\n"
     ]
    },
    {
     "name": "stderr",
     "output_type": "stream",
     "text": [
      "2025-04-18 13:43:30,722[DEBUG] energy: -13.997290859971272\n"
     ]
    },
    {
     "name": "stderr",
     "output_type": "stream",
     "text": [
      "2025-04-18 13:43:30,728[DEBUG] optimize site: [13, 14]\n"
     ]
    },
    {
     "name": "stderr",
     "output_type": "stream",
     "text": [
      "2025-04-18 13:43:30,771[DEBUG] use davidson, HC hops: 20\n"
     ]
    },
    {
     "name": "stderr",
     "output_type": "stream",
     "text": [
      "2025-04-18 13:43:30,774[DEBUG] energy: -13.997293257653808\n"
     ]
    },
    {
     "name": "stderr",
     "output_type": "stream",
     "text": [
      "2025-04-18 13:43:30,779[DEBUG] optimize site: [12, 13]\n"
     ]
    },
    {
     "name": "stderr",
     "output_type": "stream",
     "text": [
      "2025-04-18 13:43:30,829[DEBUG] use davidson, HC hops: 23\n"
     ]
    },
    {
     "name": "stderr",
     "output_type": "stream",
     "text": [
      "2025-04-18 13:43:30,830[DEBUG] energy: -13.9973062250867\n"
     ]
    },
    {
     "name": "stderr",
     "output_type": "stream",
     "text": [
      "2025-04-18 13:43:30,835[DEBUG] optimize site: [11, 12]\n"
     ]
    },
    {
     "name": "stderr",
     "output_type": "stream",
     "text": [
      "2025-04-18 13:43:30,882[DEBUG] use davidson, HC hops: 21\n"
     ]
    },
    {
     "name": "stderr",
     "output_type": "stream",
     "text": [
      "2025-04-18 13:43:30,883[DEBUG] energy: -13.997311145595628\n"
     ]
    },
    {
     "name": "stderr",
     "output_type": "stream",
     "text": [
      "2025-04-18 13:43:30,888[DEBUG] optimize site: [10, 11]\n"
     ]
    },
    {
     "name": "stderr",
     "output_type": "stream",
     "text": [
      "2025-04-18 13:43:30,913[DEBUG] use davidson, HC hops: 20\n"
     ]
    },
    {
     "name": "stderr",
     "output_type": "stream",
     "text": [
      "2025-04-18 13:43:30,913[DEBUG] energy: -13.99731313270749\n"
     ]
    },
    {
     "name": "stderr",
     "output_type": "stream",
     "text": [
      "2025-04-18 13:43:30,918[DEBUG] optimize site: [9, 10]\n"
     ]
    },
    {
     "name": "stderr",
     "output_type": "stream",
     "text": [
      "2025-04-18 13:43:30,939[DEBUG] use davidson, HC hops: 17\n"
     ]
    },
    {
     "name": "stderr",
     "output_type": "stream",
     "text": [
      "2025-04-18 13:43:30,940[DEBUG] energy: -13.99731442862636\n"
     ]
    },
    {
     "name": "stderr",
     "output_type": "stream",
     "text": [
      "2025-04-18 13:43:30,945[DEBUG] optimize site: [8, 9]\n"
     ]
    },
    {
     "name": "stderr",
     "output_type": "stream",
     "text": [
      "2025-04-18 13:43:30,960[DEBUG] use davidson, HC hops: 11\n"
     ]
    },
    {
     "name": "stderr",
     "output_type": "stream",
     "text": [
      "2025-04-18 13:43:30,961[DEBUG] energy: -13.99731471546868\n"
     ]
    },
    {
     "name": "stderr",
     "output_type": "stream",
     "text": [
      "2025-04-18 13:43:30,965[DEBUG] optimize site: [7, 8]\n"
     ]
    },
    {
     "name": "stderr",
     "output_type": "stream",
     "text": [
      "2025-04-18 13:43:30,975[DEBUG] use davidson, HC hops: 7\n"
     ]
    },
    {
     "name": "stderr",
     "output_type": "stream",
     "text": [
      "2025-04-18 13:43:30,976[DEBUG] energy: -13.997314712669802\n"
     ]
    },
    {
     "name": "stderr",
     "output_type": "stream",
     "text": [
      "2025-04-18 13:43:30,980[DEBUG] optimize site: [6, 7]\n"
     ]
    },
    {
     "name": "stderr",
     "output_type": "stream",
     "text": [
      "2025-04-18 13:43:30,996[DEBUG] use davidson, HC hops: 12\n"
     ]
    },
    {
     "name": "stderr",
     "output_type": "stream",
     "text": [
      "2025-04-18 13:43:30,997[DEBUG] energy: -13.99731499975002\n"
     ]
    },
    {
     "name": "stderr",
     "output_type": "stream",
     "text": [
      "2025-04-18 13:43:31,001[DEBUG] optimize site: [5, 6]\n"
     ]
    },
    {
     "name": "stderr",
     "output_type": "stream",
     "text": [
      "2025-04-18 13:43:31,012[DEBUG] use davidson, HC hops: 7\n"
     ]
    },
    {
     "name": "stderr",
     "output_type": "stream",
     "text": [
      "2025-04-18 13:43:31,012[DEBUG] energy: -13.997315003811462\n"
     ]
    },
    {
     "name": "stderr",
     "output_type": "stream",
     "text": [
      "2025-04-18 13:43:31,017[DEBUG] optimize site: [4, 5]\n"
     ]
    },
    {
     "name": "stderr",
     "output_type": "stream",
     "text": [
      "2025-04-18 13:43:31,024[DEBUG] use davidson, HC hops: 5\n"
     ]
    },
    {
     "name": "stderr",
     "output_type": "stream",
     "text": [
      "2025-04-18 13:43:31,025[DEBUG] energy: -13.997315004767797\n"
     ]
    },
    {
     "name": "stderr",
     "output_type": "stream",
     "text": [
      "2025-04-18 13:43:31,027[DEBUG] optimize site: [3, 4]\n"
     ]
    },
    {
     "name": "stderr",
     "output_type": "stream",
     "text": [
      "2025-04-18 13:43:31,030[DEBUG] use direct eigensolver\n"
     ]
    },
    {
     "name": "stderr",
     "output_type": "stream",
     "text": [
      "2025-04-18 13:43:31,387[DEBUG] energy: -13.997315004467103\n"
     ]
    },
    {
     "name": "stderr",
     "output_type": "stream",
     "text": [
      "2025-04-18 13:43:31,390[DEBUG] optimize site: [2, 3]\n"
     ]
    },
    {
     "name": "stderr",
     "output_type": "stream",
     "text": [
      "2025-04-18 13:43:31,393[DEBUG] use direct eigensolver\n"
     ]
    },
    {
     "name": "stderr",
     "output_type": "stream",
     "text": [
      "2025-04-18 13:43:31,484[DEBUG] energy: -13.9973150044671\n"
     ]
    },
    {
     "name": "stderr",
     "output_type": "stream",
     "text": [
      "2025-04-18 13:43:31,487[DEBUG] optimize site: [1, 2]\n"
     ]
    },
    {
     "name": "stderr",
     "output_type": "stream",
     "text": [
      "2025-04-18 13:43:31,492[DEBUG] use direct eigensolver\n"
     ]
    },
    {
     "name": "stderr",
     "output_type": "stream",
     "text": [
      "2025-04-18 13:43:31,505[DEBUG] energy: -13.997315004467108\n"
     ]
    },
    {
     "name": "stderr",
     "output_type": "stream",
     "text": [
      "2025-04-18 13:43:31,507[DEBUG] optimize site: [0, 1]\n"
     ]
    },
    {
     "name": "stderr",
     "output_type": "stream",
     "text": [
      "2025-04-18 13:43:31,508[DEBUG] use direct eigensolver\n"
     ]
    },
    {
     "name": "stderr",
     "output_type": "stream",
     "text": [
      "2025-04-18 13:43:31,510[DEBUG] energy: -13.9973150044671\n"
     ]
    },
    {
     "name": "stderr",
     "output_type": "stream",
     "text": [
      "2025-04-18 13:43:31,512[DEBUG] 2 sweeps are finished, lowest energy = -13.997315004767797\n"
     ]
    },
    {
     "name": "stderr",
     "output_type": "stream",
     "text": [
      "2025-04-18 13:43:31,512[DEBUG] isweep: 2\n"
     ]
    },
    {
     "name": "stderr",
     "output_type": "stream",
     "text": [
      "2025-04-18 13:43:31,513[DEBUG] compress config in current loop: 30, percent: 0\n"
     ]
    },
    {
     "name": "stderr",
     "output_type": "stream",
     "text": [
      "2025-04-18 13:43:31,513[DEBUG] mps current size: 343.7KiB, Matrix product bond dim:[1, 4, 8, 16, 30, 30, 30, 30, 30, 30, 30, 30, 30, 30, 30, 30, 30, 30, 30, 30, 30, 30, 30, 30, 30, 30, 30, 30, 16, 8, 4, 2, 1]\n"
     ]
    },
    {
     "name": "stderr",
     "output_type": "stream",
     "text": [
      "2025-04-18 13:43:31,514[DEBUG] optimize site: [0, 1]\n"
     ]
    },
    {
     "name": "stderr",
     "output_type": "stream",
     "text": [
      "2025-04-18 13:43:31,515[DEBUG] use direct eigensolver\n"
     ]
    },
    {
     "name": "stderr",
     "output_type": "stream",
     "text": [
      "2025-04-18 13:43:31,517[DEBUG] energy: -13.9973150044671\n"
     ]
    },
    {
     "name": "stderr",
     "output_type": "stream",
     "text": [
      "2025-04-18 13:43:31,518[DEBUG] optimize site: [1, 2]\n"
     ]
    },
    {
     "name": "stderr",
     "output_type": "stream",
     "text": [
      "2025-04-18 13:43:31,519[DEBUG] use direct eigensolver\n"
     ]
    },
    {
     "name": "stderr",
     "output_type": "stream",
     "text": [
      "2025-04-18 13:43:31,524[DEBUG] energy: -13.997315004467108\n"
     ]
    },
    {
     "name": "stderr",
     "output_type": "stream",
     "text": [
      "2025-04-18 13:43:31,525[DEBUG] optimize site: [2, 3]\n"
     ]
    },
    {
     "name": "stderr",
     "output_type": "stream",
     "text": [
      "2025-04-18 13:43:31,526[DEBUG] use direct eigensolver\n"
     ]
    },
    {
     "name": "stderr",
     "output_type": "stream",
     "text": [
      "2025-04-18 13:43:31,600[DEBUG] energy: -13.997315004467096\n"
     ]
    },
    {
     "name": "stderr",
     "output_type": "stream",
     "text": [
      "2025-04-18 13:43:31,602[DEBUG] optimize site: [3, 4]\n"
     ]
    },
    {
     "name": "stderr",
     "output_type": "stream",
     "text": [
      "2025-04-18 13:43:31,605[DEBUG] use direct eigensolver\n"
     ]
    },
    {
     "name": "stderr",
     "output_type": "stream",
     "text": [
      "2025-04-18 13:43:31,844[DEBUG] energy: -13.997315004467106\n"
     ]
    },
    {
     "name": "stderr",
     "output_type": "stream",
     "text": [
      "2025-04-18 13:43:31,846[DEBUG] optimize site: [4, 5]\n"
     ]
    },
    {
     "name": "stderr",
     "output_type": "stream",
     "text": [
      "2025-04-18 13:43:31,854[DEBUG] use davidson, HC hops: 4\n"
     ]
    },
    {
     "name": "stderr",
     "output_type": "stream",
     "text": [
      "2025-04-18 13:43:31,855[DEBUG] energy: -13.997315004767852\n"
     ]
    },
    {
     "name": "stderr",
     "output_type": "stream",
     "text": [
      "2025-04-18 13:43:31,859[DEBUG] optimize site: [5, 6]\n"
     ]
    },
    {
     "name": "stderr",
     "output_type": "stream",
     "text": [
      "2025-04-18 13:43:31,868[DEBUG] use davidson, HC hops: 4\n"
     ]
    },
    {
     "name": "stderr",
     "output_type": "stream",
     "text": [
      "2025-04-18 13:43:31,870[DEBUG] energy: -13.997315004667728\n"
     ]
    },
    {
     "name": "stderr",
     "output_type": "stream",
     "text": [
      "2025-04-18 13:43:31,873[DEBUG] optimize site: [6, 7]\n"
     ]
    },
    {
     "name": "stderr",
     "output_type": "stream",
     "text": [
      "2025-04-18 13:43:31,882[DEBUG] use davidson, HC hops: 6\n"
     ]
    },
    {
     "name": "stderr",
     "output_type": "stream",
     "text": [
      "2025-04-18 13:43:31,884[DEBUG] energy: -13.997315012470608\n"
     ]
    },
    {
     "name": "stderr",
     "output_type": "stream",
     "text": [
      "2025-04-18 13:43:31,887[DEBUG] optimize site: [7, 8]\n"
     ]
    },
    {
     "name": "stderr",
     "output_type": "stream",
     "text": [
      "2025-04-18 13:43:31,895[DEBUG] use davidson, HC hops: 5\n"
     ]
    },
    {
     "name": "stderr",
     "output_type": "stream",
     "text": [
      "2025-04-18 13:43:31,897[DEBUG] energy: -13.997315006066621\n"
     ]
    },
    {
     "name": "stderr",
     "output_type": "stream",
     "text": [
      "2025-04-18 13:43:31,900[DEBUG] optimize site: [8, 9]\n"
     ]
    },
    {
     "name": "stderr",
     "output_type": "stream",
     "text": [
      "2025-04-18 13:43:31,911[DEBUG] use davidson, HC hops: 7\n"
     ]
    },
    {
     "name": "stderr",
     "output_type": "stream",
     "text": [
      "2025-04-18 13:43:31,911[DEBUG] energy: -13.997315033374504\n"
     ]
    },
    {
     "name": "stderr",
     "output_type": "stream",
     "text": [
      "2025-04-18 13:43:31,916[DEBUG] optimize site: [9, 10]\n"
     ]
    },
    {
     "name": "stderr",
     "output_type": "stream",
     "text": [
      "2025-04-18 13:43:31,925[DEBUG] use davidson, HC hops: 6\n"
     ]
    },
    {
     "name": "stderr",
     "output_type": "stream",
     "text": [
      "2025-04-18 13:43:31,927[DEBUG] energy: -13.997315010121927\n"
     ]
    },
    {
     "name": "stderr",
     "output_type": "stream",
     "text": [
      "2025-04-18 13:43:31,930[DEBUG] optimize site: [10, 11]\n"
     ]
    },
    {
     "name": "stderr",
     "output_type": "stream",
     "text": [
      "2025-04-18 13:43:31,942[DEBUG] use davidson, HC hops: 8\n"
     ]
    },
    {
     "name": "stderr",
     "output_type": "stream",
     "text": [
      "2025-04-18 13:43:31,944[DEBUG] energy: -13.997315055776843\n"
     ]
    },
    {
     "name": "stderr",
     "output_type": "stream",
     "text": [
      "2025-04-18 13:43:31,947[DEBUG] optimize site: [11, 12]\n"
     ]
    },
    {
     "name": "stderr",
     "output_type": "stream",
     "text": [
      "2025-04-18 13:43:31,957[DEBUG] use davidson, HC hops: 7\n"
     ]
    },
    {
     "name": "stderr",
     "output_type": "stream",
     "text": [
      "2025-04-18 13:43:31,958[DEBUG] energy: -13.997315015890427\n"
     ]
    },
    {
     "name": "stderr",
     "output_type": "stream",
     "text": [
      "2025-04-18 13:43:31,962[DEBUG] optimize site: [12, 13]\n"
     ]
    },
    {
     "name": "stderr",
     "output_type": "stream",
     "text": [
      "2025-04-18 13:43:31,974[DEBUG] use davidson, HC hops: 8\n"
     ]
    },
    {
     "name": "stderr",
     "output_type": "stream",
     "text": [
      "2025-04-18 13:43:31,974[DEBUG] energy: -13.99731507675937\n"
     ]
    },
    {
     "name": "stderr",
     "output_type": "stream",
     "text": [
      "2025-04-18 13:43:31,979[DEBUG] optimize site: [13, 14]\n"
     ]
    },
    {
     "name": "stderr",
     "output_type": "stream",
     "text": [
      "2025-04-18 13:43:31,989[DEBUG] use davidson, HC hops: 7\n"
     ]
    },
    {
     "name": "stderr",
     "output_type": "stream",
     "text": [
      "2025-04-18 13:43:31,989[DEBUG] energy: -13.99731502106373\n"
     ]
    },
    {
     "name": "stderr",
     "output_type": "stream",
     "text": [
      "2025-04-18 13:43:31,994[DEBUG] optimize site: [14, 15]\n"
     ]
    },
    {
     "name": "stderr",
     "output_type": "stream",
     "text": [
      "2025-04-18 13:43:32,005[DEBUG] use davidson, HC hops: 8\n"
     ]
    },
    {
     "name": "stderr",
     "output_type": "stream",
     "text": [
      "2025-04-18 13:43:32,007[DEBUG] energy: -13.997315089163456\n"
     ]
    },
    {
     "name": "stderr",
     "output_type": "stream",
     "text": [
      "2025-04-18 13:43:32,010[DEBUG] optimize site: [15, 16]\n"
     ]
    },
    {
     "name": "stderr",
     "output_type": "stream",
     "text": [
      "2025-04-18 13:43:32,022[DEBUG] use davidson, HC hops: 8\n"
     ]
    },
    {
     "name": "stderr",
     "output_type": "stream",
     "text": [
      "2025-04-18 13:43:32,023[DEBUG] energy: -13.997315023237705\n"
     ]
    },
    {
     "name": "stderr",
     "output_type": "stream",
     "text": [
      "2025-04-18 13:43:32,027[DEBUG] optimize site: [16, 17]\n"
     ]
    },
    {
     "name": "stderr",
     "output_type": "stream",
     "text": [
      "2025-04-18 13:43:32,040[DEBUG] use davidson, HC hops: 9\n"
     ]
    },
    {
     "name": "stderr",
     "output_type": "stream",
     "text": [
      "2025-04-18 13:43:32,040[DEBUG] energy: -13.997315090211607\n"
     ]
    },
    {
     "name": "stderr",
     "output_type": "stream",
     "text": [
      "2025-04-18 13:43:32,045[DEBUG] optimize site: [17, 18]\n"
     ]
    },
    {
     "name": "stderr",
     "output_type": "stream",
     "text": [
      "2025-04-18 13:43:32,056[DEBUG] use davidson, HC hops: 8\n"
     ]
    },
    {
     "name": "stderr",
     "output_type": "stream",
     "text": [
      "2025-04-18 13:43:32,058[DEBUG] energy: -13.99731502201423\n"
     ]
    },
    {
     "name": "stderr",
     "output_type": "stream",
     "text": [
      "2025-04-18 13:43:32,062[DEBUG] optimize site: [18, 19]\n"
     ]
    },
    {
     "name": "stderr",
     "output_type": "stream",
     "text": [
      "2025-04-18 13:43:32,074[DEBUG] use davidson, HC hops: 8\n"
     ]
    },
    {
     "name": "stderr",
     "output_type": "stream",
     "text": [
      "2025-04-18 13:43:32,075[DEBUG] energy: -13.997315079212513\n"
     ]
    },
    {
     "name": "stderr",
     "output_type": "stream",
     "text": [
      "2025-04-18 13:43:32,079[DEBUG] optimize site: [19, 20]\n"
     ]
    },
    {
     "name": "stderr",
     "output_type": "stream",
     "text": [
      "2025-04-18 13:43:32,089[DEBUG] use davidson, HC hops: 7\n"
     ]
    },
    {
     "name": "stderr",
     "output_type": "stream",
     "text": [
      "2025-04-18 13:43:32,090[DEBUG] energy: -13.99731501838966\n"
     ]
    },
    {
     "name": "stderr",
     "output_type": "stream",
     "text": [
      "2025-04-18 13:43:32,094[DEBUG] optimize site: [20, 21]\n"
     ]
    },
    {
     "name": "stderr",
     "output_type": "stream",
     "text": [
      "2025-04-18 13:43:32,107[DEBUG] use davidson, HC hops: 8\n"
     ]
    },
    {
     "name": "stderr",
     "output_type": "stream",
     "text": [
      "2025-04-18 13:43:32,107[DEBUG] energy: -13.997315060471536\n"
     ]
    },
    {
     "name": "stderr",
     "output_type": "stream",
     "text": [
      "2025-04-18 13:43:32,112[DEBUG] optimize site: [21, 22]\n"
     ]
    },
    {
     "name": "stderr",
     "output_type": "stream",
     "text": [
      "2025-04-18 13:43:32,121[DEBUG] use davidson, HC hops: 6\n"
     ]
    },
    {
     "name": "stderr",
     "output_type": "stream",
     "text": [
      "2025-04-18 13:43:32,123[DEBUG] energy: -13.99731501422295\n"
     ]
    },
    {
     "name": "stderr",
     "output_type": "stream",
     "text": [
      "2025-04-18 13:43:32,126[DEBUG] optimize site: [22, 23]\n"
     ]
    },
    {
     "name": "stderr",
     "output_type": "stream",
     "text": [
      "2025-04-18 13:43:32,137[DEBUG] use davidson, HC hops: 8\n"
     ]
    },
    {
     "name": "stderr",
     "output_type": "stream",
     "text": [
      "2025-04-18 13:43:32,139[DEBUG] energy: -13.997315036380705\n"
     ]
    },
    {
     "name": "stderr",
     "output_type": "stream",
     "text": [
      "2025-04-18 13:43:32,142[DEBUG] optimize site: [23, 24]\n"
     ]
    },
    {
     "name": "stderr",
     "output_type": "stream",
     "text": [
      "2025-04-18 13:43:32,152[DEBUG] use davidson, HC hops: 6\n"
     ]
    },
    {
     "name": "stderr",
     "output_type": "stream",
     "text": [
      "2025-04-18 13:43:32,153[DEBUG] energy: -13.99731500906328\n"
     ]
    },
    {
     "name": "stderr",
     "output_type": "stream",
     "text": [
      "2025-04-18 13:43:32,157[DEBUG] optimize site: [24, 25]\n"
     ]
    },
    {
     "name": "stderr",
     "output_type": "stream",
     "text": [
      "2025-04-18 13:43:32,166[DEBUG] use davidson, HC hops: 6\n"
     ]
    },
    {
     "name": "stderr",
     "output_type": "stream",
     "text": [
      "2025-04-18 13:43:32,168[DEBUG] energy: -13.997315015431766\n"
     ]
    },
    {
     "name": "stderr",
     "output_type": "stream",
     "text": [
      "2025-04-18 13:43:32,171[DEBUG] optimize site: [25, 26]\n"
     ]
    },
    {
     "name": "stderr",
     "output_type": "stream",
     "text": [
      "2025-04-18 13:43:32,179[DEBUG] use davidson, HC hops: 5\n"
     ]
    },
    {
     "name": "stderr",
     "output_type": "stream",
     "text": [
      "2025-04-18 13:43:32,181[DEBUG] energy: -13.997315007630448\n"
     ]
    },
    {
     "name": "stderr",
     "output_type": "stream",
     "text": [
      "2025-04-18 13:43:32,184[DEBUG] optimize site: [26, 27]\n"
     ]
    },
    {
     "name": "stderr",
     "output_type": "stream",
     "text": [
      "2025-04-18 13:43:32,191[DEBUG] use davidson, HC hops: 4\n"
     ]
    },
    {
     "name": "stderr",
     "output_type": "stream",
     "text": [
      "2025-04-18 13:43:32,193[DEBUG] energy: -13.997315007727412\n"
     ]
    },
    {
     "name": "stderr",
     "output_type": "stream",
     "text": [
      "2025-04-18 13:43:32,196[DEBUG] optimize site: [27, 28]\n"
     ]
    },
    {
     "name": "stderr",
     "output_type": "stream",
     "text": [
      "2025-04-18 13:43:32,197[DEBUG] use direct eigensolver\n"
     ]
    },
    {
     "name": "stderr",
     "output_type": "stream",
     "text": [
      "2025-04-18 13:43:32,455[DEBUG] energy: -13.997315007427352\n"
     ]
    },
    {
     "name": "stderr",
     "output_type": "stream",
     "text": [
      "2025-04-18 13:43:32,457[DEBUG] optimize site: [28, 29]\n"
     ]
    },
    {
     "name": "stderr",
     "output_type": "stream",
     "text": [
      "2025-04-18 13:43:32,462[DEBUG] use direct eigensolver\n"
     ]
    },
    {
     "name": "stderr",
     "output_type": "stream",
     "text": [
      "2025-04-18 13:43:32,512[DEBUG] energy: -13.99731500742735\n"
     ]
    },
    {
     "name": "stderr",
     "output_type": "stream",
     "text": [
      "2025-04-18 13:43:32,516[DEBUG] optimize site: [29, 30]\n"
     ]
    },
    {
     "name": "stderr",
     "output_type": "stream",
     "text": [
      "2025-04-18 13:43:32,518[DEBUG] use direct eigensolver\n"
     ]
    },
    {
     "name": "stderr",
     "output_type": "stream",
     "text": [
      "2025-04-18 13:43:32,524[DEBUG] energy: -13.997315007427357\n"
     ]
    },
    {
     "name": "stderr",
     "output_type": "stream",
     "text": [
      "2025-04-18 13:43:32,525[DEBUG] optimize site: [30, 31]\n"
     ]
    },
    {
     "name": "stderr",
     "output_type": "stream",
     "text": [
      "2025-04-18 13:43:32,528[DEBUG] use direct eigensolver\n"
     ]
    },
    {
     "name": "stderr",
     "output_type": "stream",
     "text": [
      "2025-04-18 13:43:32,531[DEBUG] energy: -13.99731500742735\n"
     ]
    },
    {
     "name": "stderr",
     "output_type": "stream",
     "text": [
      "2025-04-18 13:43:32,533[DEBUG] 3 sweeps are finished, lowest energy = -13.997315090211607\n"
     ]
    },
    {
     "name": "stderr",
     "output_type": "stream",
     "text": [
      "2025-04-18 13:43:32,535[INFO] DMRG has converged!\n"
     ]
    },
    {
     "name": "stderr",
     "output_type": "stream",
     "text": [
      "2025-04-18 13:43:32,571[INFO] mps current size: 329.7KiB, Matrix product bond dim:[1, 2, 4, 8, 16, 30, 30, 30, 30, 30, 30, 30, 30, 30, 30, 30, 30, 30, 30, 30, 30, 30, 30, 30, 30, 30, 30, 30, 16, 8, 4, 2, 1]\n"
     ]
    },
    {
     "name": "stdout",
     "output_type": "stream",
     "text": [
      "gs energy: -13.997315090211607\n"
     ]
    }
   ],
   "source": [
    "# set the sweep paramter\n",
    "M = 30\n",
    "procedure = [[M, 0.2], [M, 0], [M, 0], [M,0], [M,0]]\n",
    "\n",
    "# initialize a random MPS\n",
    "qntot = 0\n",
    "mps = Mps.random(model, qntot, M)\n",
    "\n",
    "mps.optimize_config.procedure = procedure\n",
    "mps.optimize_config.method = \"2site\"\n",
    "\n",
    "# optimize MPS\n",
    "energies, _ = optimize_mps(mps.copy(), mpo)\n",
    "print(\"gs energy:\", min(energies))"
   ]
  },
  {
   "cell_type": "code",
   "execution_count": null,
   "metadata": {},
   "outputs": [],
   "source": []
  }
 ],
 "metadata": {
  "kernelspec": {
   "display_name": "Python 3 (ipykernel)",
   "language": "python",
   "name": "python3"
  },
  "language_info": {
   "codemirror_mode": {
    "name": "ipython",
    "version": 3
   },
   "file_extension": ".py",
   "mimetype": "text/x-python",
   "name": "python",
   "nbconvert_exporter": "python",
   "pygments_lexer": "ipython3",
   "version": "3.8.18"
  }
 },
 "nbformat": 4,
 "nbformat_minor": 4
}
